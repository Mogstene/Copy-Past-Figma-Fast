{
 "cells": [
  {
   "cell_type": "markdown",
   "metadata": {},
   "source": [
    "# Copy-Past, Figma-Fast"
   ]
  },
  {
   "cell_type": "markdown",
   "metadata": {},
   "source": [
    "Fonctionne à peu près pour la plus part des éléments chiants à positionner. N'hésiter pas à me faire des remarque pour des pistes d'amélioration. "
   ]
  },
  {
   "cell_type": "code",
   "execution_count": 115,
   "metadata": {},
   "outputs": [],
   "source": [
    "##Put your pxCSS in here : \n",
    "text = \"width: 103px;height: 61px;left: 352px;top: 587px;\""
   ]
  },
  {
   "cell_type": "code",
   "execution_count": 116,
   "metadata": {},
   "outputs": [],
   "source": [
    "def pixel_css(text):\n",
    "    css= \"\"\n",
    "    text = text[:-1]\n",
    "    for style in text.split(';'):\n",
    "        if style.split(':')[:-1][0] == 'width':\n",
    "            css += style.split(':')[:-1][0] + \": \"\n",
    "            width = 100*int(style.split(':')[1:][0].replace(\"px\",\"\").strip())/1280\n",
    "            css += str(width) + \"%; \"\n",
    "        if style.split(':')[:-1][0] == 'height':\n",
    "            css += style.split(':')[:-1][0] + \": \"\n",
    "            height = 100*int(style.split(':')[1:][0].replace(\"px\",\"\").strip())/800\n",
    "            css += str(height) + \"%; \"\n",
    "        if style.split(':')[:-1][0] == 'left':\n",
    "            css += style.split(':')[:-1][0] + \": \"\n",
    "            left = 100*int(style.split(':')[1:][0].replace(\"px\",\"\").strip())/1280\n",
    "            css += str(left) + \"%; \"\n",
    "        if style.split(':')[:-1][0] == 'top':\n",
    "            css += style.split(':')[:-1][0] + \": \"\n",
    "            top = 100*int(style.split(':')[1:][0].replace(\"px\",\"\").strip())/800\n",
    "            css += str(top) + \"%; \"\n",
    "    return(css)"
   ]
  },
  {
   "cell_type": "code",
   "execution_count": 117,
   "metadata": {},
   "outputs": [
    {
     "data": {
      "text/plain": [
       "'width: 8.046875%; height: 7.625%; left: 27.5%; top: 73.375%; '"
      ]
     },
     "execution_count": 117,
     "metadata": {},
     "output_type": "execute_result"
    }
   ],
   "source": [
    "#Get your %CSS in \n",
    "pixel_css(text)"
   ]
  },
  {
   "cell_type": "code",
   "execution_count": null,
   "metadata": {},
   "outputs": [],
   "source": []
  }
 ],
 "metadata": {
  "kernelspec": {
   "display_name": "Python 3",
   "language": "python",
   "name": "python3"
  },
  "language_info": {
   "codemirror_mode": {
    "name": "ipython",
    "version": 3
   },
   "file_extension": ".py",
   "mimetype": "text/x-python",
   "name": "python",
   "nbconvert_exporter": "python",
   "pygments_lexer": "ipython3",
   "version": "3.7.6"
  }
 },
 "nbformat": 4,
 "nbformat_minor": 4
}
